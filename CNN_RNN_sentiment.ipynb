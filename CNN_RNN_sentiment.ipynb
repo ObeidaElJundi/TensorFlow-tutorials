{
 "cells": [
  {
   "cell_type": "markdown",
   "metadata": {},
   "source": [
    "### import necessary libraries"
   ]
  },
  {
   "cell_type": "code",
   "execution_count": 7,
   "metadata": {},
   "outputs": [
    {
     "name": "stdout",
     "output_type": "stream",
     "text": [
      "1.7.0\n"
     ]
    }
   ],
   "source": [
    "import pandas as pd\n",
    "import numpy as np\n",
    "import matplotlib.pyplot as plt\n",
    "import tensorflow as tf\n",
    "from tqdm import tqdm\n",
    "from resources.arabic_preprocessing import Arabic_preprocessing\n",
    "from nltk.stem.arlstem import ARLSTem\n",
    "import gensim\n",
    "from sklearn.preprocessing import LabelEncoder, OneHotEncoder\n",
    "from sklearn.model_selection import train_test_split\n",
    "\n",
    "print(tf.__version__)\n",
    "tf.set_random_seed(121)"
   ]
  },
  {
   "cell_type": "markdown",
   "metadata": {},
   "source": [
    "### initialize embeddings, stemmer, preprocessing"
   ]
  },
  {
   "cell_type": "code",
   "execution_count": 6,
   "metadata": {},
   "outputs": [],
   "source": [
    "prep = Arabic_preprocessing()\n",
    "stemmer = ARLSTem()\n",
    "\n",
    "emb_path = '../resources/(cbow58)-asa-3b-cbow-window5-3iter-d300-vecotrs.bin'\n",
    "new_emb = gensim.models.KeyedVectors.load_word2vec_format(emb_path, binary=True, unicode_errors='ignore')"
   ]
  },
  {
   "cell_type": "markdown",
   "metadata": {},
   "source": [
    "### Read ASTD dataset"
   ]
  },
  {
   "cell_type": "code",
   "execution_count": 9,
   "metadata": {},
   "outputs": [
    {
     "data": {
      "text/html": [
       "<div>\n",
       "<style scoped>\n",
       "    .dataframe tbody tr th:only-of-type {\n",
       "        vertical-align: middle;\n",
       "    }\n",
       "\n",
       "    .dataframe tbody tr th {\n",
       "        vertical-align: top;\n",
       "    }\n",
       "\n",
       "    .dataframe thead th {\n",
       "        text-align: right;\n",
       "    }\n",
       "</style>\n",
       "<table border=\"1\" class=\"dataframe\">\n",
       "  <thead>\n",
       "    <tr style=\"text-align: right;\">\n",
       "      <th></th>\n",
       "      <th>tweet</th>\n",
       "      <th>sentiment</th>\n",
       "    </tr>\n",
       "  </thead>\n",
       "  <tbody>\n",
       "    <tr>\n",
       "      <th>0</th>\n",
       "      <td>اهنئ الدكتور احمد جمال الدين القيادي بحزب مصر ...</td>\n",
       "      <td>1</td>\n",
       "    </tr>\n",
       "    <tr>\n",
       "      <th>1</th>\n",
       "      <td>امير عيد هو اللي فعلا يتقال عليه ستريكر صريح ك...</td>\n",
       "      <td>1</td>\n",
       "    </tr>\n",
       "    <tr>\n",
       "      <th>2</th>\n",
       "      <td>الصداقه تزرع الحياه ازهارا مي زياده</td>\n",
       "      <td>1</td>\n",
       "    </tr>\n",
       "    <tr>\n",
       "      <th>3</th>\n",
       "      <td>دضياء رشوان ان الدكتور عبد المنعم ابو الفتوح ا...</td>\n",
       "      <td>1</td>\n",
       "    </tr>\n",
       "    <tr>\n",
       "      <th>4</th>\n",
       "      <td>الى زملائي المحامين الراغبين في الانضمام لمباد...</td>\n",
       "      <td>1</td>\n",
       "    </tr>\n",
       "  </tbody>\n",
       "</table>\n",
       "</div>"
      ],
      "text/plain": [
       "                                               tweet  sentiment\n",
       "0  اهنئ الدكتور احمد جمال الدين القيادي بحزب مصر ...          1\n",
       "1  امير عيد هو اللي فعلا يتقال عليه ستريكر صريح ك...          1\n",
       "2                الصداقه تزرع الحياه ازهارا مي زياده          1\n",
       "3  دضياء رشوان ان الدكتور عبد المنعم ابو الفتوح ا...          1\n",
       "4  الى زملائي المحامين الراغبين في الانضمام لمباد...          1"
      ]
     },
     "execution_count": 9,
     "metadata": {},
     "output_type": "execute_result"
    }
   ],
   "source": [
    "df=pd.read_csv('tmp/data/ASTD-unbalanced.csv', delimiter=',', skiprows=1, header=None, names=['tweet','sentiment'])\n",
    "df.head()"
   ]
  },
  {
   "cell_type": "markdown",
   "metadata": {},
   "source": [
    "### preprocess tweets"
   ]
  },
  {
   "cell_type": "code",
   "execution_count": 10,
   "metadata": {},
   "outputs": [
    {
     "data": {
      "text/html": [
       "<div>\n",
       "<style scoped>\n",
       "    .dataframe tbody tr th:only-of-type {\n",
       "        vertical-align: middle;\n",
       "    }\n",
       "\n",
       "    .dataframe tbody tr th {\n",
       "        vertical-align: top;\n",
       "    }\n",
       "\n",
       "    .dataframe thead th {\n",
       "        text-align: right;\n",
       "    }\n",
       "</style>\n",
       "<table border=\"1\" class=\"dataframe\">\n",
       "  <thead>\n",
       "    <tr style=\"text-align: right;\">\n",
       "      <th></th>\n",
       "      <th>tweet</th>\n",
       "      <th>sentiment</th>\n",
       "      <th>tweet_preprocessed</th>\n",
       "    </tr>\n",
       "  </thead>\n",
       "  <tbody>\n",
       "    <tr>\n",
       "      <th>0</th>\n",
       "      <td>اهنئ الدكتور احمد جمال الدين القيادي بحزب مصر ...</td>\n",
       "      <td>1</td>\n",
       "      <td>اهنئ الدكتور احمد جمال الدين القيادي بحزب مصر ...</td>\n",
       "    </tr>\n",
       "    <tr>\n",
       "      <th>1</th>\n",
       "      <td>امير عيد هو اللي فعلا يتقال عليه ستريكر صريح ك...</td>\n",
       "      <td>1</td>\n",
       "      <td>امير عيد فعلا يتقال ستريكر صريح كاريوكي السكه</td>\n",
       "    </tr>\n",
       "    <tr>\n",
       "      <th>2</th>\n",
       "      <td>الصداقه تزرع الحياه ازهارا مي زياده</td>\n",
       "      <td>1</td>\n",
       "      <td>الصداقه تزرع الحياه ازهارا مي زياده</td>\n",
       "    </tr>\n",
       "    <tr>\n",
       "      <th>3</th>\n",
       "      <td>دضياء رشوان ان الدكتور عبد المنعم ابو الفتوح ا...</td>\n",
       "      <td>1</td>\n",
       "      <td>دضياء رشوان الدكتور عبد المنعم الفتوح الاكثر ا...</td>\n",
       "    </tr>\n",
       "    <tr>\n",
       "      <th>4</th>\n",
       "      <td>الى زملائي المحامين الراغبين في الانضمام لمباد...</td>\n",
       "      <td>1</td>\n",
       "      <td>زملائي المحامين الراغبين الانضمام لمبادره سامع...</td>\n",
       "    </tr>\n",
       "  </tbody>\n",
       "</table>\n",
       "</div>"
      ],
      "text/plain": [
       "                                               tweet  sentiment  \\\n",
       "0  اهنئ الدكتور احمد جمال الدين القيادي بحزب مصر ...          1   \n",
       "1  امير عيد هو اللي فعلا يتقال عليه ستريكر صريح ك...          1   \n",
       "2                الصداقه تزرع الحياه ازهارا مي زياده          1   \n",
       "3  دضياء رشوان ان الدكتور عبد المنعم ابو الفتوح ا...          1   \n",
       "4  الى زملائي المحامين الراغبين في الانضمام لمباد...          1   \n",
       "\n",
       "                                  tweet_preprocessed  \n",
       "0  اهنئ الدكتور احمد جمال الدين القيادي بحزب مصر ...  \n",
       "1      امير عيد فعلا يتقال ستريكر صريح كاريوكي السكه  \n",
       "2                الصداقه تزرع الحياه ازهارا مي زياده  \n",
       "3  دضياء رشوان الدكتور عبد المنعم الفتوح الاكثر ا...  \n",
       "4  زملائي المحامين الراغبين الانضمام لمبادره سامع...  "
      ]
     },
     "execution_count": 10,
     "metadata": {},
     "output_type": "execute_result"
    }
   ],
   "source": [
    "df['tweet_preprocessed'] = df['tweet'].apply(lambda x : prep.preprocess_arabic_text(x, stem=False, replace_emojis=True, normalize_arabic=True))\n",
    "df.head()"
   ]
  },
  {
   "cell_type": "markdown",
   "metadata": {},
   "source": [
    "### prepare labels (one-hot encoding)"
   ]
  },
  {
   "cell_type": "code",
   "execution_count": 14,
   "metadata": {},
   "outputs": [
    {
     "name": "stdout",
     "output_type": "stream",
     "text": [
      "(2161, 2)\n"
     ]
    }
   ],
   "source": [
    "y = df.sentiment.values\n",
    "label_encoder = LabelEncoder()\n",
    "y_encoded = label_encoder.fit_transform(y)\n",
    "onehot_encoder = OneHotEncoder(sparse=False)\n",
    "y = onehot_encoder.fit_transform(y_encoded.reshape((-1,1)))\n",
    "print(y.shape)"
   ]
  },
  {
   "cell_type": "markdown",
   "metadata": {},
   "source": [
    "### Tweets to embeddings + split train, test"
   ]
  },
  {
   "cell_type": "code",
   "execution_count": 15,
   "metadata": {},
   "outputs": [
    {
     "name": "stdout",
     "output_type": "stream",
     "text": [
      "max_len 23\n",
      "X_emb.shape: (2161, 300, 23)\n",
      "(1728, 300, 23, 1) (1728, 2)\n",
      "(433, 300, 23, 1) (433, 2)\n"
     ]
    }
   ],
   "source": [
    "def max_length(tweets_list):\n",
    "    tweets_length = [len(tweet.split(' ')) for tweet in tweets_list]\n",
    "    return max(tweets_length)\n",
    "\n",
    "def apply_embeddings(embeddings, tweets, stemmer, max_len):\n",
    "    shape = (len(tweets), 300, max_len)\n",
    "    X_emb = np.zeros(shape)\n",
    "    for i, tweet in enumerate(tweets):\n",
    "        for j,word in enumerate(tweet.split()):\n",
    "            if word in embeddings:\n",
    "                X_emb[i,:,j] = embeddings[word]\n",
    "            elif stemmer.stem(word) in embeddings:\n",
    "                X_emb[i,:,j] = embeddings[stemmer.stem(word)]\n",
    "            else:\n",
    "                X_emb[i,:,j] = np.zeros((300,))\n",
    "    return X_emb\n",
    "\n",
    "\n",
    "#scaler = MinMaxScaler()\n",
    "XX = df.tweet_preprocessed.tolist()\n",
    "max_len = max_length(XX)\n",
    "print('max_len', max_len)\n",
    "X_emb = apply_embeddings(new_emb, XX, stemmer, max_len)\n",
    "print('X_emb.shape:', X_emb.shape)\n",
    "\n",
    "X_train, X_test, y_train, y_test = train_test_split(X_emb, y, test_size=0.2, shuffle=True, random_state=121)\n",
    "X_train = np.reshape(X_train, X_train.shape + (1,))\n",
    "X_test = np.reshape(X_test, X_test.shape + (1,))\n",
    "print(X_train.shape, y_train.shape)\n",
    "print(X_test.shape, y_test.shape)"
   ]
  },
  {
   "cell_type": "markdown",
   "metadata": {},
   "source": [
    "### Model parameters"
   ]
  },
  {
   "cell_type": "code",
   "execution_count": 16,
   "metadata": {},
   "outputs": [],
   "source": [
    "vocab_size = len(new_emb.vocab)\n",
    "embeddings_length = new_emb.vector_size\n",
    "nb_classes = 2 # binary sentiment\n",
    "nb_filters = 200\n",
    "sentence_max_length = max_len\n",
    "rnn_output_size = 100\n",
    "hidden_dim = 400 # the number of neurons in the hidden, fully connected layer\n",
    "learning_rate = 0.00001\n",
    "nb_epochs = 10\n",
    "batch_size = 32\n",
    "nb_samples = X_train.shape[0]"
   ]
  },
  {
   "cell_type": "markdown",
   "metadata": {},
   "source": [
    "### build model graph\n",
    "<img src=\"images/CNN_RNN_sentiment.png\" alt=\"CNN_RNN_sentiment\" title=\"CNN_RNN_sentiment\" height=\"420\" width=\"720\"/>"
   ]
  },
  {
   "cell_type": "code",
   "execution_count": 17,
   "metadata": {},
   "outputs": [
    {
     "name": "stdout",
     "output_type": "stream",
     "text": [
      "Tensor(\"Convolution_4/ReLU4:0\", shape=(?, 1, 10, 200), dtype=float32)\n",
      "Tensor(\"Convolution_5/ReLU5:0\", shape=(?, 1, 10, 200), dtype=float32)\n",
      "Tensor(\"Concatination/dropout_concat/cond/Merge:0\", shape=(?, 10, 400), dtype=float32)\n"
     ]
    }
   ],
   "source": [
    "tf.reset_default_graph()\n",
    "\n",
    "X = tf.placeholder(tf.float32, shape=(None, 300, sentence_max_length, 1), name='input')\n",
    "y = tf.placeholder(tf.float32, shape=(None, nb_classes), name='output')\n",
    "drop_flag = tf.placeholder_with_default(True, shape=())\n",
    "\n",
    "with tf.name_scope('Convolution_4'):\n",
    "    conv4 = tf.layers.conv2d(inputs=X, filters=nb_filters, kernel_size=(embeddings_length,4), padding='valid', name='conv4')\n",
    "    maxpool4 = tf.layers.max_pooling2d(inputs=conv4, pool_size=(1,2), strides=2, padding='valid', name='maxpooling4')\n",
    "    #batch_norm = tf.layers.batch_normalization()\n",
    "    layer1 = tf.nn.relu(maxpool4, name='ReLU4')\n",
    "    #layer1 = tf.nn.leaky_relu(maxpool4, alpha=0.1, name='LeakyReLU4')\n",
    "    print(layer1)\n",
    "\n",
    "with tf.name_scope('Convolution_5'):\n",
    "    conv5 = tf.layers.conv2d(inputs=X, filters=nb_filters, kernel_size=(embeddings_length,5), padding='valid', name='conv5') # 1 x (sentence_max_length-5+1)\n",
    "    maxpool5 = tf.layers.max_pooling2d(inputs=conv5, pool_size=(1,2), strides=2, padding='same', name='maxpooling5')\n",
    "    #batch_norm = tf.layers.batch_normalization()\n",
    "    layer2 = tf.nn.relu(maxpool5, name='ReLU5')\n",
    "    #layer2 = tf.nn.leaky_relu(maxpool5, alpha=0.1, name='LeakyReLU5')\n",
    "    print(layer2)\n",
    "\n",
    "with tf.name_scope('Concatination'):\n",
    "    concat = tf.concat([layer1, layer2], -1)\n",
    "    concat = tf.reshape(concat, (-1, concat.shape[-2], concat.shape[-1]))\n",
    "    concat = tf.layers.dropout(concat, rate=0.2, training=drop_flag, name='dropout_concat')\n",
    "    #concat = tf.layers.batch_normalization(concat, training=drop_flag, name='batch_normalization_concat')\n",
    "    print(concat)\n",
    "    \n",
    "\n",
    "gru = tf.keras.layers.LSTM(rnn_output_size) (concat) # 100   # , dropout=0.2, recurrent_dropout=0.2\n",
    "#gru = tf.layers.dropout(gru, rate=drop_prob, name='dropout_gru')\n",
    "\n",
    "#fully_connected = tf.layers.dense(gru, hidden_dim, kernel_initializer=tf.keras.initializers.he_normal(),\n",
    "#                                 kernel_constraint=tf.keras.constraints.max_norm(3), bias_constraint=tf.keras.constraints.max_norm(3))\n",
    "#fully_connected = tf.layers.dense(gru, hidden_dim, kernel_initializer=tf.keras.initializers.he_normal())\n",
    "#fully_connected = tf.nn.leaky_relu(fully_connected, alpha=0.1, name='LeakyReLU')\n",
    "#fully_connected = tf.nn.relu(fully_connected, name='ReLU_dense1')\n",
    "#fully_connected = tf.layers.dropout(fully_connected, rate=0.5, training=drop_flag, name='dropout_dense1')\n",
    "\n",
    "logits = tf.layers.dense(inputs=gru, units=nb_classes, name='output_layer')\n",
    "#logits = tf.nn.leaky_relu(logits, name='LeakyReLU_output')\n",
    "logits = tf.nn.relu(logits, name='ReLU_output')"
   ]
  },
  {
   "cell_type": "markdown",
   "metadata": {},
   "source": [
    "### define loss function, optimizer, accuracy..."
   ]
  },
  {
   "cell_type": "code",
   "execution_count": 18,
   "metadata": {},
   "outputs": [],
   "source": [
    "loss = tf.reduce_mean(tf.losses.softmax_cross_entropy(onehot_labels=tf.cast(y, tf.int32), logits=logits))\n",
    "optimizer = tf.train.AdamOptimizer(learning_rate=learning_rate).minimize(loss)\n",
    "correct_predictoins = tf.equal(tf.argmax(y,1), tf.argmax(logits,1))\n",
    "accuracy = tf.reduce_mean(tf.cast(correct_predictoins, tf.float32))"
   ]
  },
  {
   "cell_type": "markdown",
   "metadata": {},
   "source": [
    "### Mini-batch training"
   ]
  },
  {
   "cell_type": "code",
   "execution_count": 19,
   "metadata": {},
   "outputs": [
    {
     "name": "stderr",
     "output_type": "stream",
     "text": [
      "100%|████████████████████████████████████████████████████████████████| 54/54 [00:07<00:00,  7.19it/s]\n"
     ]
    },
    {
     "name": "stdout",
     "output_type": "stream",
     "text": [
      "epoch: 1  -- training accuracy: 0.7251157  -- test accuracy: 0.6905312\n"
     ]
    },
    {
     "name": "stderr",
     "output_type": "stream",
     "text": [
      "100%|████████████████████████████████████████████████████████████████| 54/54 [00:06<00:00,  9.00it/s]\n"
     ]
    },
    {
     "name": "stdout",
     "output_type": "stream",
     "text": [
      "epoch: 2  -- training accuracy: 0.7708333  -- test accuracy: 0.73903\n"
     ]
    },
    {
     "name": "stderr",
     "output_type": "stream",
     "text": [
      "100%|████████████████████████████████████████████████████████████████| 54/54 [00:05<00:00,  9.07it/s]\n"
     ]
    },
    {
     "name": "stdout",
     "output_type": "stream",
     "text": [
      "epoch: 3  -- training accuracy: 0.8032407  -- test accuracy: 0.7852194\n"
     ]
    },
    {
     "name": "stderr",
     "output_type": "stream",
     "text": [
      "100%|████████████████████████████████████████████████████████████████| 54/54 [00:06<00:00,  8.74it/s]\n"
     ]
    },
    {
     "name": "stdout",
     "output_type": "stream",
     "text": [
      "epoch: 4  -- training accuracy: 0.8240741  -- test accuracy: 0.812933\n"
     ]
    },
    {
     "name": "stderr",
     "output_type": "stream",
     "text": [
      "100%|████████████████████████████████████████████████████████████████| 54/54 [00:05<00:00,  9.11it/s]\n"
     ]
    },
    {
     "name": "stdout",
     "output_type": "stream",
     "text": [
      "epoch: 5  -- training accuracy: 0.8385417  -- test accuracy: 0.82448035\n"
     ]
    },
    {
     "name": "stderr",
     "output_type": "stream",
     "text": [
      "100%|████████████████████████████████████████████████████████████████| 54/54 [00:06<00:00,  8.99it/s]\n"
     ]
    },
    {
     "name": "stdout",
     "output_type": "stream",
     "text": [
      "epoch: 6  -- training accuracy: 0.8501157  -- test accuracy: 0.8383372\n"
     ]
    },
    {
     "name": "stderr",
     "output_type": "stream",
     "text": [
      "100%|████████████████████████████████████████████████████████████████| 54/54 [00:06<00:00,  8.60it/s]\n"
     ]
    },
    {
     "name": "stdout",
     "output_type": "stream",
     "text": [
      "epoch: 7  -- training accuracy: 0.8559028  -- test accuracy: 0.83602774\n"
     ]
    },
    {
     "name": "stderr",
     "output_type": "stream",
     "text": [
      "100%|████████████████████████████████████████████████████████████████| 54/54 [00:06<00:00,  8.65it/s]\n"
     ]
    },
    {
     "name": "stdout",
     "output_type": "stream",
     "text": [
      "epoch: 8  -- training accuracy: 0.8668981  -- test accuracy: 0.8383372\n"
     ]
    },
    {
     "name": "stderr",
     "output_type": "stream",
     "text": [
      "100%|████████████████████████████████████████████████████████████████| 54/54 [00:06<00:00,  8.91it/s]\n"
     ]
    },
    {
     "name": "stdout",
     "output_type": "stream",
     "text": [
      "epoch: 9  -- training accuracy: 0.8773148  -- test accuracy: 0.83602774\n"
     ]
    },
    {
     "name": "stderr",
     "output_type": "stream",
     "text": [
      "100%|████████████████████████████████████████████████████████████████| 54/54 [00:05<00:00,  9.06it/s]\n"
     ]
    },
    {
     "name": "stdout",
     "output_type": "stream",
     "text": [
      "epoch: 10  -- training accuracy: 0.8859954  -- test accuracy: 0.8314088\n",
      "\n",
      "Training complete!  :)\n"
     ]
    }
   ],
   "source": [
    "def next_batch(X, y, counter, batch_size):\n",
    "    start_index = counter * batch_size\n",
    "    end_index = start_index + batch_size\n",
    "    #if end_index > X.shape[0]: end_index = X.shape[0]\n",
    "    return X[start_index:end_index], y[start_index:end_index], start_index, end_index\n",
    "\n",
    "init = tf.global_variables_initializer()\n",
    "\n",
    "accuracy_train, accuracy_test = [], []\n",
    "loss_train, loss_test = [], []\n",
    "\n",
    "with tf.Session() as sess:\n",
    "    sess.run(init)\n",
    "    nb_batches = int(nb_samples / batch_size)\n",
    "    \n",
    "    acc_test, err_test, y_pred = sess.run([accuracy, loss, logits], feed_dict={X:X_test, y:y_test, drop_flag:False})\n",
    "    loss_test.append(err_test)\n",
    "    \n",
    "    for epoch in np.arange(nb_epochs):\n",
    "        \n",
    "        batch_counter = 0\n",
    "        \n",
    "        for one_batch in tqdm(np.arange(nb_batches)):\n",
    "            batch_x, batch_y, _, _ = next_batch(X_train, y_train, batch_counter, batch_size)\n",
    "            #_ = sess.run(optimizer, feed_dict={X:batch_x.reshape((-1,28,28,1)), y:batch_y})\n",
    "            _ = sess.run(optimizer, feed_dict={X:batch_x, y:batch_y, drop_flag:True})\n",
    "            batch_counter += 1\n",
    "        \n",
    "        acc_train, err_train = sess.run([accuracy, loss], feed_dict={X:X_train, y:y_train, drop_flag:False})\n",
    "        acc_test, err_test, y_pred = sess.run([accuracy, loss, logits], feed_dict={X:X_test, y:y_test, drop_flag:False})\n",
    "        accuracy_train.append(acc_train)\n",
    "        accuracy_test.append(acc_test)\n",
    "        loss_train.append(err_train)\n",
    "        loss_test.append(err_test)\n",
    "        \n",
    "        print('epoch:', int(epoch+1), ' -- training accuracy:', acc_train, ' -- test accuracy:', acc_test)\n",
    "\n",
    "print(\"\\nTraining complete!  :)\")"
   ]
  },
  {
   "cell_type": "markdown",
   "metadata": {},
   "source": [
    "### plot accuracy"
   ]
  },
  {
   "cell_type": "code",
   "execution_count": 20,
   "metadata": {},
   "outputs": [
    {
     "data": {
      "image/png": "[encoded data removed]",
      "text/plain": [
       "<Figure size 432x288 with 1 Axes>"
      ]
     },
     "metadata": {},
     "output_type": "display_data"
    }
   ],
   "source": [
    "plt.plot(accuracy_train)\n",
    "plt.plot(accuracy_test)\n",
    "plt.grid()\n",
    "plt.xlabel('epochs')\n",
    "plt.ylabel('accuracy')\n",
    "plt.show()"
   ]
  }
 ],
 "metadata": {
  "kernelspec": {
   "display_name": "Python 3",
   "language": "python",
   "name": "python3"
  },
  "language_info": {
   "codemirror_mode": {
    "name": "ipython",
    "version": 3
   },
   "file_extension": ".py",
   "mimetype": "text/x-python",
   "name": "python",
   "nbconvert_exporter": "python",
   "pygments_lexer": "ipython3",
   "version": "3.6.3"
  }
 },
 "nbformat": 4,
 "nbformat_minor": 2
}
