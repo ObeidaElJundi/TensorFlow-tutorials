{
 "cells": [
  {
   "cell_type": "markdown",
   "metadata": {},
   "source": [
    "# Convolutional Neural Network"
   ]
  },
  {
   "cell_type": "markdown",
   "metadata": {},
   "source": [
    "# Dataset\n",
    "### We won't use the famous dataset: __[MNIST](http://yann.lecun.com/exdb/mnist/)__ for the following reasons:\n",
    "- **MNIST is too easy.** Some CNNs already acheived 99.7% accuracy on MNIST.\n",
    "- **MNIST is overused.** __[In April 2017 Twitter thread](https://twitter.com/goodfellow_ian/status/852591106655043584)__, Google Brain research scientist and deep learning expert **Ian Goodfellow** calls for people to move away from MNIST.\n",
    "<img src=\"images/FMNIST_Goodfellow.png\" alt=\"Tensors\" title=\"Tensors\" width=\"350\"/>\n",
    "\n",
    "\n",
    "- **MNIST can not represent modern CV tasks**, as noted in __[another April 2017 Twitter thread](https://twitter.com/fchollet/status/852594987527045120)__, deep learning expert/Keras author François Chollet.\n",
    "<img src=\"images/FMNIST_CV.png\" alt=\"Tensors\" title=\"Tensors\" width=\"350\"/>\n",
    "\n",
    "\n",
    "### Instead, we will be using __[Fashion MNIST](https://github.com/zalandoresearch/fashion-mnist)__ :\n",
    "As the name indicates, it is a dataset of fashion images (T-shirt, coat, sandal ... etc), instead of hand-written images. It is consisting of a training set of 60,000 examples and a test set of 10,000 examples. Each example is a 28x28 grayscale image, associated with a label from 10 classes:\n",
    "\n",
    "0 : T-shirt/top <BR>\n",
    "1 : Trouser <BR>\n",
    "2 : Pullover <BR>\n",
    "3 : Dress <BR>\n",
    "4 : Coat <BR>\n",
    "5 : Sandal <BR>\n",
    "6 : Shirt <BR>\n",
    "7 : Sneaker <BR>\n",
    "8 : Bag <BR>\n",
    "9 : Ankle boot <BR>\n",
    "\n",
    "<img src=\"images/FMNIST.png\" alt=\"FMNIST\" title=\"FMNIST\" width=\"850\"/>"
   ]
  },
  {
   "cell_type": "markdown",
   "metadata": {},
   "source": [
    "# Import necessary libraries"
   ]
  },
  {
   "cell_type": "code",
   "execution_count": 1,
   "metadata": {},
   "outputs": [
    {
     "name": "stderr",
     "output_type": "stream",
     "text": [
      "c:\\users\\oae15\\desktop\\ml\\lib\\site-packages\\h5py\\__init__.py:36: FutureWarning: Conversion of the second argument of issubdtype from `float` to `np.floating` is deprecated. In future, it will be treated as `np.float64 == np.dtype(float).type`.\n",
      "  from ._conv import register_converters as _register_converters\n"
     ]
    },
    {
     "name": "stdout",
     "output_type": "stream",
     "text": [
      "WARNING:tensorflow:From c:\\users\\oae15\\desktop\\ml\\lib\\site-packages\\tensorflow\\contrib\\learn\\python\\learn\\datasets\\base.py:198: retry (from tensorflow.contrib.learn.python.learn.datasets.base) is deprecated and will be removed in a future version.\n",
      "Instructions for updating:\n",
      "Use the retry module or similar alternatives.\n",
      "1.7.0\n"
     ]
    }
   ],
   "source": [
    "import numpy as np\n",
    "import matplotlib.pyplot as plt\n",
    "import tensorflow as tf\n",
    "#from tensorflow.keras.datasets import fashion_mnist\n",
    "from tensorflow.examples.tutorials.mnist import input_data # import MNIST | FMNIST data\n",
    "from tqdm import tqdm\n",
    "\n",
    "print(tf.__version__)"
   ]
  },
  {
   "cell_type": "markdown",
   "metadata": {},
   "source": [
    "# Load FMNIST dataset\n",
    "data is already splitted as trainig & test..."
   ]
  },
  {
   "cell_type": "code",
   "execution_count": 2,
   "metadata": {},
   "outputs": [
    {
     "name": "stdout",
     "output_type": "stream",
     "text": [
      "WARNING:tensorflow:From <ipython-input-2-d1360578cee1>:1: read_data_sets (from tensorflow.contrib.learn.python.learn.datasets.mnist) is deprecated and will be removed in a future version.\n",
      "Instructions for updating:\n",
      "Please use alternatives such as official/mnist/dataset.py from tensorflow/models.\n",
      "WARNING:tensorflow:From c:\\users\\oae15\\desktop\\ml\\lib\\site-packages\\tensorflow\\contrib\\learn\\python\\learn\\datasets\\mnist.py:260: maybe_download (from tensorflow.contrib.learn.python.learn.datasets.base) is deprecated and will be removed in a future version.\n",
      "Instructions for updating:\n",
      "Please write your own downloading logic.\n",
      "WARNING:tensorflow:From c:\\users\\oae15\\desktop\\ml\\lib\\site-packages\\tensorflow\\contrib\\learn\\python\\learn\\datasets\\mnist.py:262: extract_images (from tensorflow.contrib.learn.python.learn.datasets.mnist) is deprecated and will be removed in a future version.\n",
      "Instructions for updating:\n",
      "Please use tf.data to implement this functionality.\n",
      "Extracting tmp/data/FMNIST/train-images-idx3-ubyte.gz\n",
      "WARNING:tensorflow:From c:\\users\\oae15\\desktop\\ml\\lib\\site-packages\\tensorflow\\contrib\\learn\\python\\learn\\datasets\\mnist.py:267: extract_labels (from tensorflow.contrib.learn.python.learn.datasets.mnist) is deprecated and will be removed in a future version.\n",
      "Instructions for updating:\n",
      "Please use tf.data to implement this functionality.\n",
      "Extracting tmp/data/FMNIST/train-labels-idx1-ubyte.gz\n",
      "WARNING:tensorflow:From c:\\users\\oae15\\desktop\\ml\\lib\\site-packages\\tensorflow\\contrib\\learn\\python\\learn\\datasets\\mnist.py:110: dense_to_one_hot (from tensorflow.contrib.learn.python.learn.datasets.mnist) is deprecated and will be removed in a future version.\n",
      "Instructions for updating:\n",
      "Please use tf.one_hot on tensors.\n",
      "Extracting tmp/data/FMNIST/t10k-images-idx3-ubyte.gz\n",
      "Extracting tmp/data/FMNIST/t10k-labels-idx1-ubyte.gz\n",
      "WARNING:tensorflow:From c:\\users\\oae15\\desktop\\ml\\lib\\site-packages\\tensorflow\\contrib\\learn\\python\\learn\\datasets\\mnist.py:290: DataSet.__init__ (from tensorflow.contrib.learn.python.learn.datasets.mnist) is deprecated and will be removed in a future version.\n",
      "Instructions for updating:\n",
      "Please use alternatives such as official/mnist/dataset.py from tensorflow/models.\n",
      "(55000, 28, 28, 1) (55000, 10)\n",
      "(10000, 28, 28, 1) (10000, 10)\n"
     ]
    }
   ],
   "source": [
    "fmnist = input_data.read_data_sets(\"tmp/data/FMNIST/\", one_hot=True) #, one_hot=True\n",
    "X_train = fmnist.train.images.reshape((-1,28,28,1))\n",
    "y_train = fmnist.train.labels\n",
    "X_test = fmnist.test.images.reshape((-1,28,28,1))\n",
    "y_test = fmnist.test.labels\n",
    "labels = ['T-shirt/top','Trouser','Pullover','Dress','Coat','Sandal','Shirt','Sneaker','Bag','Ankle boot']\n",
    "print(X_train.shape, y_train.shape)\n",
    "print(X_test.shape, y_test.shape)"
   ]
  },
  {
   "cell_type": "code",
   "execution_count": 7,
   "metadata": {},
   "outputs": [
    {
     "data": {
      "image/png": "[encoded data removed]",
      "text/plain": [
       "<Figure size 576x576 with 9 Axes>"
      ]
     },
     "metadata": {},
     "output_type": "display_data"
    }
   ],
   "source": [
    "fig = plt.figure(figsize = (8,8))\n",
    "for i in range (9):\n",
    "    ax = plt.subplot(\"33\"+str(i+1))\n",
    "    ax.set_title(labels[np.argmax(y_train[i])])\n",
    "    ax.imshow(X_train[i,:,:,0], cmap='gray')\n",
    "    ax.axis('off')\n",
    "plt.show()"
   ]
  },
  {
   "cell_type": "markdown",
   "metadata": {},
   "source": [
    "# Define the Model:\n",
    "<img src=\"images/CNN_FMNIST.png\" alt=\"CNN_FMNIST\" title=\"CNN_FMNIST\" height=\"580\" width=\"890\"/>\n",
    "<center>Green: conv -- Yellow: max-pool -- pink: fully connected</center>\n",
    "<center>__[ConvNetDraw](https://cbovar.github.io/ConvNetDraw/)__</center> <br>\n",
    "Each Convolurtion layer will be consisted of the following:\n",
    "1. conv2d: 2D convolution layer.parameters:\n",
    "    - inputs: Tensor input.\n",
    "    - filters: the number of filters in the convolution.\n",
    "    - kernel_size: An integer or tuple/list of 2 integers, specifying the height and width of the 2D convolution window.\n",
    "    - strides: An integer or tuple/list of 2 integers, specifying the strides of the convolution along the height and width.\n",
    "    - padding: One of **valid** or **same** (case-insensitive):\n",
    "        - valid: no padding. some values might be dropped.\n",
    "        - same: pad with zeroes so the output tensor will have the same width and height values as the input tensor.\n",
    "2. maxpooling: parameters:\n",
    "    - inputs: The tensor over which to pool. Must have rank 4.\n",
    "    - pool_size: An integer or tuple/list of 2 integers: (pool_height, pool_width) specifying the size of the pooling window.\n",
    "    - strides: An integer or tuple/list of 2 integers, specifying the strides of the pooling operation.\n",
    "    - padding.\n",
    "    \n",
    "3. ReLU"
   ]
  },
  {
   "cell_type": "code",
   "execution_count": 44,
   "metadata": {},
   "outputs": [],
   "source": [
    "tf.reset_default_graph()\n",
    "\n",
    "X = tf.placeholder(tf.float32, shape=(None, 28, 28, 1), name='input')\n",
    "y = tf.placeholder(tf.float32, shape=(None, 10))\n",
    "\n",
    "with tf.name_scope('Convolution_1'):\n",
    "    conv1 = tf.layers.conv2d(inputs=X, filters=10, kernel_size=(3,3), padding='valid', name='conv1') # 26x26\n",
    "    maxpool1 = tf.layers.max_pooling2d(inputs=conv1, pool_size=(2,2), strides=2, padding='same', name='maxpooling1') # 13x13\n",
    "    #batch_norm = tf.layers.batch_normalization()\n",
    "    #layer1 = tf.nn.relu(maxpool1, name='ReLU1')\n",
    "    layer1 = tf.nn.leaky_relu(maxpool1, alpha=0.1, name='ReLU1')\n",
    "\n",
    "with tf.name_scope('Convolution_2'):\n",
    "    conv2 = tf.layers.conv2d(inputs=layer1, filters=30, kernel_size=(3,3), padding='valid', name='conv2') # 11x11\n",
    "    maxpool2 = tf.layers.max_pooling2d(inputs=conv2, pool_size=(2,2), strides=2, padding='same', name='maxpooling2') # 6x6\n",
    "    #batch_norm = tf.layers.batch_normalization()\n",
    "    #layer2 = tf.nn.relu(maxpool2, name='ReLU2')\n",
    "    layer2 = tf.nn.leaky_relu(maxpool2, alpha=0.1, name='ReLU2')\n",
    "\n",
    "with tf.name_scope('Convolution_3'):\n",
    "    conv3 = tf.layers.conv2d(inputs=layer2, filters=50, kernel_size=(3,3), padding='valid', name='conv3') # 4x4\n",
    "    maxpool3 = tf.layers.max_pooling2d(inputs=conv3, pool_size=(2,2), strides=2, padding='same', name='maxpooling3') # 2x2\n",
    "    #batch_norm = tf.layers.batch_normalization()\n",
    "    #layer3 = tf.nn.relu(maxpool3, name='ReLU3')\n",
    "    layer3 = tf.nn.leaky_relu(maxpool3, alpha=0.1, name='ReLU3')\n",
    "\n",
    "flat = tf.layers.flatten(layer3, name='Flatten') # 2*2*50=200\n",
    "\n",
    "fully_connected1 = tf.layers.dense(flat, units=256, name='Fully_connected1')\n",
    "\n",
    "logits = tf.layers.dense(inputs=fully_connected1, units=10, name='output_layer')"
   ]
  },
  {
   "cell_type": "markdown",
   "metadata": {},
   "source": [
    "Next, we compute cross-entropy of one hot encoded labels and the softmax of the predictions from our logits layer. **tf.losses.softmax_cross_entropy()** takes one hot encoded labels and logits as arguments, performs softmax activation on logits, calculates cross-entropy, and returns our loss as a scalar Tensor:"
   ]
  },
  {
   "cell_type": "code",
   "execution_count": 45,
   "metadata": {},
   "outputs": [],
   "source": [
    "loss = tf.losses.softmax_cross_entropy(onehot_labels=tf.cast(y, tf.int32), logits=logits)"
   ]
  },
  {
   "cell_type": "markdown",
   "metadata": {},
   "source": [
    "configure our model to optimize this loss value during training."
   ]
  },
  {
   "cell_type": "code",
   "execution_count": 46,
   "metadata": {},
   "outputs": [],
   "source": [
    "optimizer = tf.train.AdamOptimizer(learning_rate=0.001).minimize(loss)"
   ]
  },
  {
   "cell_type": "markdown",
   "metadata": {},
   "source": [
    "calculate accuracy"
   ]
  },
  {
   "cell_type": "code",
   "execution_count": 47,
   "metadata": {},
   "outputs": [],
   "source": [
    "correct_predictoins = tf.equal(tf.argmax(y,1), tf.argmax(logits,1))\n",
    "accuracy = tf.reduce_mean(tf.cast(correct_predictoins, tf.float32))"
   ]
  },
  {
   "cell_type": "markdown",
   "metadata": {},
   "source": [
    "# Training"
   ]
  },
  {
   "cell_type": "code",
   "execution_count": 48,
   "metadata": {},
   "outputs": [
    {
     "name": "stderr",
     "output_type": "stream",
     "text": [
      "100%|██████████████████████████████████████████████████████████████| 429/429 [00:26<00:00, 15.99it/s]\n"
     ]
    },
    {
     "name": "stdout",
     "output_type": "stream",
     "text": [
      "epoch: 1  -- training accuracy: 0.8473091  -- test accuracy: 0.8414\n"
     ]
    },
    {
     "name": "stderr",
     "output_type": "stream",
     "text": [
      "100%|██████████████████████████████████████████████████████████████| 429/429 [00:27<00:00, 15.73it/s]\n"
     ]
    },
    {
     "name": "stdout",
     "output_type": "stream",
     "text": [
      "epoch: 2  -- training accuracy: 0.87430906  -- test accuracy: 0.8677\n"
     ]
    },
    {
     "name": "stderr",
     "output_type": "stream",
     "text": [
      "100%|██████████████████████████████████████████████████████████████| 429/429 [00:26<00:00, 16.29it/s]\n"
     ]
    },
    {
     "name": "stdout",
     "output_type": "stream",
     "text": [
      "epoch: 3  -- training accuracy: 0.8773636  -- test accuracy: 0.8631\n"
     ]
    },
    {
     "name": "stderr",
     "output_type": "stream",
     "text": [
      "100%|██████████████████████████████████████████████████████████████| 429/429 [00:26<00:00, 16.06it/s]\n"
     ]
    },
    {
     "name": "stdout",
     "output_type": "stream",
     "text": [
      "epoch: 4  -- training accuracy: 0.89976364  -- test accuracy: 0.8852\n"
     ]
    },
    {
     "name": "stderr",
     "output_type": "stream",
     "text": [
      "100%|██████████████████████████████████████████████████████████████| 429/429 [00:26<00:00, 16.09it/s]\n"
     ]
    },
    {
     "name": "stdout",
     "output_type": "stream",
     "text": [
      "epoch: 5  -- training accuracy: 0.90672725  -- test accuracy: 0.8909\n"
     ]
    },
    {
     "name": "stderr",
     "output_type": "stream",
     "text": [
      "100%|██████████████████████████████████████████████████████████████| 429/429 [00:26<00:00, 15.92it/s]\n"
     ]
    },
    {
     "name": "stdout",
     "output_type": "stream",
     "text": [
      "epoch: 6  -- training accuracy: 0.90736365  -- test accuracy: 0.8907\n"
     ]
    },
    {
     "name": "stderr",
     "output_type": "stream",
     "text": [
      "100%|██████████████████████████████████████████████████████████████| 429/429 [00:26<00:00, 16.04it/s]\n"
     ]
    },
    {
     "name": "stdout",
     "output_type": "stream",
     "text": [
      "epoch: 7  -- training accuracy: 0.90976363  -- test accuracy: 0.8891\n"
     ]
    },
    {
     "name": "stderr",
     "output_type": "stream",
     "text": [
      "100%|██████████████████████████████████████████████████████████████| 429/429 [00:27<00:00, 15.69it/s]\n"
     ]
    },
    {
     "name": "stdout",
     "output_type": "stream",
     "text": [
      "epoch: 8  -- training accuracy: 0.91874546  -- test accuracy: 0.9018\n"
     ]
    },
    {
     "name": "stderr",
     "output_type": "stream",
     "text": [
      "100%|██████████████████████████████████████████████████████████████| 429/429 [00:27<00:00, 15.61it/s]\n"
     ]
    },
    {
     "name": "stdout",
     "output_type": "stream",
     "text": [
      "epoch: 9  -- training accuracy: 0.91998184  -- test accuracy: 0.8975\n"
     ]
    },
    {
     "name": "stderr",
     "output_type": "stream",
     "text": [
      "100%|██████████████████████████████████████████████████████████████| 429/429 [00:26<00:00, 16.00it/s]\n"
     ]
    },
    {
     "name": "stdout",
     "output_type": "stream",
     "text": [
      "epoch: 10  -- training accuracy: 0.92678183  -- test accuracy: 0.9004\n"
     ]
    },
    {
     "name": "stderr",
     "output_type": "stream",
     "text": [
      "100%|██████████████████████████████████████████████████████████████| 429/429 [00:27<00:00, 15.51it/s]\n"
     ]
    },
    {
     "name": "stdout",
     "output_type": "stream",
     "text": [
      "epoch: 11  -- training accuracy: 0.9273273  -- test accuracy: 0.8988\n"
     ]
    },
    {
     "name": "stderr",
     "output_type": "stream",
     "text": [
      "100%|██████████████████████████████████████████████████████████████| 429/429 [00:26<00:00, 16.17it/s]\n"
     ]
    },
    {
     "name": "stdout",
     "output_type": "stream",
     "text": [
      "epoch: 12  -- training accuracy: 0.9344182  -- test accuracy: 0.9038\n"
     ]
    },
    {
     "name": "stderr",
     "output_type": "stream",
     "text": [
      "100%|██████████████████████████████████████████████████████████████| 429/429 [00:26<00:00, 16.34it/s]\n"
     ]
    },
    {
     "name": "stdout",
     "output_type": "stream",
     "text": [
      "epoch: 13  -- training accuracy: 0.9367091  -- test accuracy: 0.901\n"
     ]
    },
    {
     "name": "stderr",
     "output_type": "stream",
     "text": [
      "100%|██████████████████████████████████████████████████████████████| 429/429 [00:26<00:00, 16.29it/s]\n"
     ]
    },
    {
     "name": "stdout",
     "output_type": "stream",
     "text": [
      "epoch: 14  -- training accuracy: 0.9332  -- test accuracy: 0.8989\n"
     ]
    },
    {
     "name": "stderr",
     "output_type": "stream",
     "text": [
      "100%|██████████████████████████████████████████████████████████████| 429/429 [00:26<00:00, 16.12it/s]\n"
     ]
    },
    {
     "name": "stdout",
     "output_type": "stream",
     "text": [
      "epoch: 15  -- training accuracy: 0.935  -- test accuracy: 0.9034\n",
      "\n",
      "Training complete!  :)\n"
     ]
    }
   ],
   "source": [
    "# with RelU: epoch: 15  -- training accuracy: 0.9342545  -- test accuracy: 0.8986\n",
    "# with LeakyRelU: epoch: 15  -- training accuracy: 0.935  -- test accuracy: 0.9034\n",
    "\n",
    "epochs = 15\n",
    "batch_size = 128\n",
    "samples_number = X_train.shape[0]\n",
    "\n",
    "# Initialize the variables (i.e. assign their default value)\n",
    "init = tf.global_variables_initializer()\n",
    "\n",
    "accuracy_train, accuracy_test = [], []\n",
    "\n",
    "with tf.Session() as sess:\n",
    "    sess.run(init)\n",
    "    batches_number = int(samples_number / batch_size)\n",
    "    for epoch in np.arange(epochs):\n",
    "        \n",
    "        for one_batch in tqdm(np.arange(batches_number)):\n",
    "            batch_x, batch_y = fmnist.train.next_batch(batch_size, shuffle=True)\n",
    "            _ = sess.run(optimizer, feed_dict={X:batch_x.reshape((-1,28,28,1)), y:batch_y})\n",
    "        \n",
    "        acc_train = sess.run(accuracy, feed_dict={X:X_train, y:y_train})\n",
    "        acc_test, y_pred = sess.run([accuracy, logits], feed_dict={X:X_test, y:y_test})\n",
    "        accuracy_train.append(acc_train)\n",
    "        accuracy_test.append(acc_test)\n",
    "        \n",
    "        print('epoch:', int(epoch+1), ' -- training accuracy:', acc_train, ' -- test accuracy:', acc_test)\n",
    "\n",
    "print(\"\\nTraining complete!  :)\")"
   ]
  },
  {
   "cell_type": "markdown",
   "metadata": {},
   "source": [
    "## Plot accuracies"
   ]
  },
  {
   "cell_type": "code",
   "execution_count": 50,
   "metadata": {},
   "outputs": [
    {
     "data": {
      "image/png": "[encoded data removed]",
      "text/plain": [
       "<Figure size 432x288 with 1 Axes>"
      ]
     },
     "metadata": {},
     "output_type": "display_data"
    }
   ],
   "source": [
    "plt.plot(np.arange(epochs), accuracy_train, 'r', label='train')\n",
    "plt.plot(np.arange(epochs), accuracy_test, 'b', label='test')\n",
    "plt.xlabel('epochs')\n",
    "plt.xlabel('accuracy')\n",
    "plt.legend(loc='upper left')\n",
    "plt.show()"
   ]
  },
  {
   "cell_type": "markdown",
   "metadata": {},
   "source": [
    "## Plot predictions"
   ]
  },
  {
   "cell_type": "code",
   "execution_count": 99,
   "metadata": {},
   "outputs": [
    {
     "data": {
      "image/png": "[encoded data removed]",
      "text/plain": [
       "<Figure size 576x576 with 9 Axes>"
      ]
     },
     "metadata": {},
     "output_type": "display_data"
    }
   ],
   "source": [
    "fig = plt.figure(figsize = (8,8))\n",
    "for i in range (9):\n",
    "    index = np.random.randint(low=0, high=X_test.shape[0], size=1)[0]\n",
    "    color = 'g' if np.argmax(y_test[index])==np.argmax(y_pred[index]) else 'r'\n",
    "    ax = plt.subplot(\"33\"+str(i+1))\n",
    "    ax.set_title('I think it\\'s ' + labels[np.argmax(y_test[index])], color=color)\n",
    "    ax.imshow(X_test[index,:,:,0], cmap='gray')\n",
    "    ax.axis('off')\n",
    "plt.show()"
   ]
  }
 ],
 "metadata": {
  "kernelspec": {
   "display_name": "Python 3",
   "language": "python",
   "name": "python3"
  },
  "language_info": {
   "codemirror_mode": {
    "name": "ipython",
    "version": 3
   },
   "file_extension": ".py",
   "mimetype": "text/x-python",
   "name": "python",
   "nbconvert_exporter": "python",
   "pygments_lexer": "ipython3",
   "version": "3.6.3"
  }
 },
 "nbformat": 4,
 "nbformat_minor": 2
}
