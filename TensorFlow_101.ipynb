{
 "cells": [
  {
   "cell_type": "markdown",
   "metadata": {},
   "source": [
    "## What is TensorFlow, anyway?\n",
    "simply, it is the mots powerful, popular Deep Learning library.\n",
    "It has been developed by the Google Brain Team and used (locally) by for the purposes of conducting machine learning and deep neural networks research. It turned out later it is general enough to be applicable in a wide variety of other domains as well. Therefore, Google open sourced TensorFlow in Nov 2015 and made it available freely for public."
   ]
  },
  {
   "cell_type": "markdown",
   "metadata": {},
   "source": [
    "## TensorFlow Backbone: Computational Graph\n",
    "in TensorFlow, models are represented by a **flow** (graph: DAG) of **tensors** (hence the name), **called Computational Graph**.\n",
    "Each **node** of the graph is a **mathematical operation** (ex: addition, multiplication) taking a tensor as input and outputing a tensor. Thus, the edges represent tensors communicated between nodes.\n",
    "<img src=\"images/Computational_Graph.gif\" alt=\"Computational_Graph\" title=\"Computational_Graph\" height=\"322\" width=\"322\"/>\n",
    "You can think of **Tensors** as a generalization of vectors and matrices to potentially higher dimensions.\n",
    "<img src=\"images/tensor.png\" alt=\"Tensors\" title=\"Tensors\" height=\"420\" width=\"420\"/>"
   ]
  },
  {
   "cell_type": "markdown",
   "metadata": {},
   "source": [
    "## Why Computational Graphs?\n",
    "Computational Graphs help representing **computations without actually performing it until asked**. In this sense, it is a form of lazy computing, and it allows for some great improvements to the running of code:\n",
    "- Faster computation of complex variables.\n",
    "- Distributed computation across multiple systems, including GPUs.\n",
    "- Reduced redundency in some computations.\n",
    "- Manage dependencied between nodes.\n",
    "- Allow us to build complex models in terms of small and simple operations (ex: gradient)."
   ]
  },
  {
   "cell_type": "markdown",
   "metadata": {},
   "source": [
    "## A typical “flow” of TensorFlow\n",
    "1. Build a computational graph\n",
    "2. Initialize variables\n",
    "3. Create session\n",
    "4. Run graph in session\n",
    "5. Close session"
   ]
  },
  {
   "cell_type": "markdown",
   "metadata": {},
   "source": [
    "## Before we start\n",
    "The most basic 3 operations are:\n",
    "- constant\n",
    "- variable: trainable variables (ex: weights & bais)\n",
    "- placeholder: untrainable variables (ex: input & output data)\n",
    "\n",
    "Examples:"
   ]
  },
  {
   "cell_type": "code",
   "execution_count": 3,
   "metadata": {},
   "outputs": [
    {
     "name": "stdout",
     "output_type": "stream",
     "text": [
      "Tensor(\"Const_1:0\", shape=(), dtype=int32)\n",
      "Tensor(\"Placeholder:0\", dtype=int32)\n",
      "Tensor(\"mul:0\", dtype=int32)\n"
     ]
    }
   ],
   "source": [
    "# import tensorflow library\n",
    "import tensorflow as tf\n",
    "\n",
    "# create a constant tensor\n",
    "a = tf.constant(5)\n",
    "# create a placeholder tensor\n",
    "b = tf.placeholder(tf.int32)\n",
    "# compute a * b\n",
    "c = a * b\n",
    "print(a)\n",
    "print(b)\n",
    "print(c)"
   ]
  },
  {
   "cell_type": "markdown",
   "metadata": {},
   "source": [
    "Notice that printing the tensors does not output their values as you might expect. The above statements only build the computation graph. Executing the graph and computing real values should be done with a session:"
   ]
  },
  {
   "cell_type": "code",
   "execution_count": 4,
   "metadata": {},
   "outputs": [
    {
     "name": "stdout",
     "output_type": "stream",
     "text": [
      "35\n"
     ]
    }
   ],
   "source": [
    "with tf.Session() as sess:\n",
    "    result = sess.run(c, feed_dict={b:7})\n",
    "    print(result)"
   ]
  },
  {
   "cell_type": "markdown",
   "metadata": {},
   "source": [
    "## Example: Linear Regression"
   ]
  },
  {
   "cell_type": "code",
   "execution_count": 1,
   "metadata": {},
   "outputs": [
    {
     "data": {
      "image/png": "[encoded data removed]",
      "text/plain": [
       "<matplotlib.figure.Figure at 0x1fc30397080>"
      ]
     },
     "metadata": {},
     "output_type": "display_data"
    }
   ],
   "source": [
    "import tensorflow as tf\n",
    "import numpy as np\n",
    "import matplotlib.pyplot as plt\n",
    "\n",
    "# define input data\n",
    "X_data = np.arange(100, step=0.1)\n",
    "y_data = X_data + 20 * np.sin(X_data/10)\n",
    "\n",
    "# plot input data\n",
    "plt.plot(X_data, y_data)\n",
    "plt.show()"
   ]
  },
  {
   "cell_type": "markdown",
   "metadata": {},
   "source": [
    "So we wanna fit a linear line into the drawn data. <br>\n",
    "Recall Linear Regression function: y = W * X + b <br>\n",
    "Let's initialize X & y as placaholder tensors, and W & b as variable tensors with random variables."
   ]
  },
  {
   "cell_type": "code",
   "execution_count": 7,
   "metadata": {},
   "outputs": [],
   "source": [
    "# Define data size\n",
    "n_samples = 1000\n",
    "\n",
    "# Define placeholder tensors for input\n",
    "X = tf.placeholder(tf.float32, shape=(n_samples,), name='X')\n",
    "y = tf.placeholder(tf.float32, shape=(n_samples,), name='y')\n",
    "\n",
    "# Define variables to be learned\n",
    "W = tf.Variable(0.1, name='W') # tf.random_uniform(shape=[1], minval=0.0, maxval=1.0)\n",
    "b = tf.Variable(0.0, name='b')\n",
    "\n",
    "# define predicted output\n",
    "y_hat = W * X + b"
   ]
  },
  {
   "cell_type": "markdown",
   "metadata": {},
   "source": [
    "Now we need to define our loss function (mean square error) and optimizer (Gradient Descent)"
   ]
  },
  {
   "cell_type": "code",
   "execution_count": 8,
   "metadata": {},
   "outputs": [],
   "source": [
    "loss = tf.reduce_mean(tf.square(y - y_hat)) # Create an operation that calculates loss.\n",
    "optimizer = tf.train.GradientDescentOptimizer(0.000005) # Create an optimizer.\n",
    "train = optimizer.minimize(loss) # Create an operation that minimizes loss."
   ]
  },
  {
   "cell_type": "markdown",
   "metadata": {},
   "source": [
    "Done building the graph. Time to run it in a session."
   ]
  },
  {
   "cell_type": "code",
   "execution_count": 9,
   "metadata": {},
   "outputs": [
    {
     "name": "stdout",
     "output_type": "stream",
     "text": [
      "epoch 0 weight: 0.13153 b: 0.000486386 loss: 3170.22\n",
      "epoch 20 weight: 0.581933 b: 0.00750965 loss: 954.321\n",
      "epoch 40 weight: 0.810763 b: 0.0112074 loss: 382.338\n",
      "epoch 60 weight: 0.927022 b: 0.0132156 loss: 234.693\n",
      "epoch 80 weight: 0.986086 b: 0.0143653 loss: 196.581\n",
      "epoch 100 weight: 1.01609 b: 0.015079 loss: 186.743\n",
      "epoch 120 weight: 1.03134 b: 0.015571 loss: 184.203\n",
      "epoch 140 weight: 1.03908 b: 0.0159505 loss: 183.547\n",
      "epoch 160 weight: 1.04301 b: 0.0162727 loss: 183.377\n",
      "epoch 180 weight: 1.04501 b: 0.0165659 loss: 183.332\n"
     ]
    },
    {
     "data": {
      "image/png": "[encoded data removed]",
      "text/plain": [
       "<matplotlib.figure.Figure at 0x1fc34d37780>"
      ]
     },
     "metadata": {},
     "output_type": "display_data"
    }
   ],
   "source": [
    "epochs = 200\n",
    "init = tf.global_variables_initializer()  # Create an operation initializes all the variables.\n",
    "sess = tf.Session() # start a session\n",
    "sess.run(init)\n",
    "\n",
    "#  Perform training.\n",
    "for epoch in range(epochs):\n",
    "    _,error,weight,b2 = sess.run([train, loss, W, b], feed_dict={X:X_data, y:y_data})\n",
    "    if epoch % 20 == 0:\n",
    "        print('epoch', epoch, 'weight:', weight, 'b:', b2, 'loss:', error)\n",
    "\n",
    "y_pred = sess.run(y_hat, feed_dict={X:X_data, y:y_data}) # get predictions\n",
    "plt.plot(X_data, y_data, 'b') # plot original data\n",
    "plt.plot(X_data, y_pred, 'r') # plot learnt line\n",
    "plt.show()\n",
    "\n",
    "sess.close() # close session to release resources and free memory"
   ]
  },
  {
   "cell_type": "markdown",
   "metadata": {},
   "source": [
    "## TensorBoard\n",
    "TensorFlow provides a utility to visualize the computation graph."
   ]
  },
  {
   "cell_type": "code",
   "execution_count": 10,
   "metadata": {},
   "outputs": [],
   "source": [
    "writer = tf.summary.FileWriter('.')\n",
    "writer.add_graph(tf.get_default_graph())"
   ]
  },
  {
   "cell_type": "markdown",
   "metadata": {},
   "source": [
    "Now, in a new terminal, launch TensorBoard with the following shell command: <br>\n",
    "`tensorboard --logdir .` <br>\n",
    "OR <br>\n",
    "`python -m tensorflow.tensorboard --logdir .` <br>\n",
    "Then go to __[HERE](http://localhost:6006)__"
   ]
  }
 ],
 "metadata": {
  "kernelspec": {
   "display_name": "Python 3",
   "language": "python",
   "name": "python3"
  },
  "language_info": {
   "codemirror_mode": {
    "name": "ipython",
    "version": 3
   },
   "file_extension": ".py",
   "mimetype": "text/x-python",
   "name": "python",
   "nbconvert_exporter": "python",
   "pygments_lexer": "ipython3",
   "version": "3.5.4"
  }
 },
 "nbformat": 4,
 "nbformat_minor": 2
}
