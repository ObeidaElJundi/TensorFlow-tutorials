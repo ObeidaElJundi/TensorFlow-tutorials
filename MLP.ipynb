{
 "cells": [
  {
   "cell_type": "markdown",
   "metadata": {},
   "source": [
    "## MLP : Multi Layer Perceptron\n",
    "Let's try to build a multi-layer Neutal net using TensorFlow. Here, I will create a hand-written digits classifier using the popular dataset: __[MNIST](http://yann.lecun.com/exdb/mnist/)__. The __[MNIST dataset](http://yann.lecun.com/exdb/mnist/)__ contains 60,000 training examples and 10,000 test examples of the handwritten digits 0–9, formatted as 28x28-pixel images. First, let's visualize some MNIST examples:"
   ]
  },
  {
   "cell_type": "code",
   "execution_count": 1,
   "metadata": {},
   "outputs": [
    {
     "name": "stdout",
     "output_type": "stream",
     "text": [
      "Successfully downloaded train-images-idx3-ubyte.gz 9912422 bytes.\n",
      "Extracting tmp/data/train-images-idx3-ubyte.gz\n",
      "Successfully downloaded train-labels-idx1-ubyte.gz 28881 bytes.\n",
      "Extracting tmp/data/train-labels-idx1-ubyte.gz\n",
      "Successfully downloaded t10k-images-idx3-ubyte.gz 1648877 bytes.\n",
      "Extracting tmp/data/t10k-images-idx3-ubyte.gz\n",
      "Successfully downloaded t10k-labels-idx1-ubyte.gz 4542 bytes.\n",
      "Extracting tmp/data/t10k-labels-idx1-ubyte.gz\n"
     ]
    },
    {
     "data": {
      "image/png": "[encoded data removed]",
      "text/plain": [
       "<matplotlib.figure.Figure at 0x1b777f11b00>"
      ]
     },
     "metadata": {},
     "output_type": "display_data"
    },
    {
     "name": "stdout",
     "output_type": "stream",
     "text": [
      "[[ 0.  0.  0.  0.  0.  0.  0.  1.  0.  0.]\n",
      " [ 0.  0.  0.  1.  0.  0.  0.  0.  0.  0.]\n",
      " [ 0.  0.  0.  0.  1.  0.  0.  0.  0.  0.]\n",
      " [ 0.  0.  0.  0.  0.  0.  1.  0.  0.  0.]\n",
      " [ 0.  1.  0.  0.  0.  0.  0.  0.  0.  0.]]\n"
     ]
    }
   ],
   "source": [
    "import numpy as np\n",
    "import matplotlib.pyplot as plt\n",
    "import tensorflow as tf\n",
    "from tensorflow.examples.tutorials.mnist import input_data # import MNIST data\n",
    "\n",
    "mnist = input_data.read_data_sets(\"tmp/data/\", one_hot=True) # will download about 11 MB\n",
    "\n",
    "# X_train = mnist.train.images\n",
    "# y_train = mnist.train.labels\n",
    "# print(X_train.shape, y_train.shape)\n",
    "\n",
    "# X_test = mnist.validation.images\n",
    "# y_test = mnist.validation.labels\n",
    "# print(X_test.shape, y_test.shape)\n",
    "\n",
    "# plot 5 images from MNIST\n",
    "f = plt.figure(figsize = (14,4))\n",
    "f.suptitle('MNIST')\n",
    "for i in range(5):\n",
    "    plt.subplot(1, 5, i+1)\n",
    "    plt.imshow(mnist.train.images[i].reshape((28,28)), cmap='gray')\n",
    "    plt.axis('off')\n",
    "plt.show()\n",
    "\n",
    "print(mnist.train.labels[:5,:])"
   ]
  },
  {
   "cell_type": "markdown",
   "metadata": {},
   "source": [
    "## The Model\n",
    "#### or should I say: the Computational Graph\n",
    "Let's build a model to classify the images in the MNIST dataset using the following architecture:\n",
    "- Input Layer: shape = (100,784) ==> 100 image (minibatch), each has 784 pixels\n",
    "- Fully connected (Dense) Layer #1: 256 neurons, with ReLU activation function:\n",
    "    - weights shape = (784,256) - bais shape = (256) - output (X*W+b) shape = (100,256)\n",
    "- Fully connected (Dense) Layer #2: 128 neurons, with ReLU activation function\n",
    "    - weights shape = (256,128) - bais shape = (128) - output (X*W+b) shape = (100,128)\n",
    "- Output Layer: 10 neurons (bcz 10 classes), with Softmax\n",
    "    - weights shape = (128,10) - bais shape = (10) - output (X*W+b) shape = (100,10)\n",
    "<img src=\"images/MNIST_MLP.png\" alt=\"Tensors\" title=\"Tensors\" height=\"420\" width=\"720\"/>\n",
    "\n",
    "Weights initialised with small random values between -0.2 and +0.2 <br>\n",
    "This will be done using **truncated_normal** function: <br>\n",
    "> The generated values follow a normal distribution with specified mean and standard deviation, except that values whose magnitude is more than 2 standard deviations from the mean are dropped and re-picked.\n",
    "\n",
    "The point is to overcome saturation of tome functions like sigmoid (where if the value is too big/small, the neuron stops learning). <br>\n",
    "When using RELUs, make sure biases are initialised with small *positive* values. for example 0.1 <br>\n",
    "__[Stanford](http://cs231n.github.io/neural-networks-2/#init)__ claims:\n",
    "> this ensures that all ReLU units fire in the beginning and therefore obtain and propagate some gradient."
   ]
  },
  {
   "cell_type": "code",
   "execution_count": 5,
   "metadata": {},
   "outputs": [],
   "source": [
    "def feed_forward(X, w, b): # input, times weight, add bais, activate\n",
    "    # hidden layer 1\n",
    "    layer_1 = tf.matmul(X, w['h1']) # multiply input by weight\n",
    "    layer_1 = tf.add(layer_1, b['h1']) # add bais\n",
    "    layer_1 = tf.nn.relu(layer_1) # activate\n",
    "    # hidden layer 2\n",
    "    layer_2 = tf.matmul(layer_1, w['h2']) # multiply input by weight\n",
    "    layer_2 = tf.add(layer_2, b['h2']) # add bais\n",
    "    layer_2 = tf.nn.relu(layer_2) # activate\n",
    "    # output layer\n",
    "    output_layer = tf.matmul(layer_2, w['output']) # multiply input by weight\n",
    "    output_layer = tf.add(output_layer, b['output']) # add bais\n",
    "    #output = tf.nn.softmax(output_layer) # activate\n",
    "    return output_layer\n",
    "\n",
    "tf.reset_default_graph()\n",
    "# Network Parameters\n",
    "n_hidden_1 = 256 # 1st layer number of features\n",
    "n_hidden_2 = 128 # 2nd layer number of features\n",
    "n_input = 784 # MNIST data input (img shape: 28*28)\n",
    "n_classes = 10 # MNIST total classes (0-9 digits)\n",
    "learning_rate = 0.0005\n",
    "batch_size = 100\n",
    "epochs = 10\n",
    "\n",
    "# weights & baises as tensorflow trainable variables\n",
    "weights = {\n",
    "    'h1': tf.Variable(tf.truncated_normal([n_input, n_hidden_1], stddev=0.1), name='w1'),\n",
    "    'h2': tf.Variable(tf.truncated_normal([n_hidden_1, n_hidden_2], stddev=0.1), name='w2'),\n",
    "    'output': tf.Variable(tf.truncated_normal([n_hidden_2, n_classes], stddev=0.1), name='w_output')\n",
    "}\n",
    "bais = {\n",
    "    'h1': tf.Variable(tf.ones([n_hidden_1]) / 10 , name='b1'),\n",
    "    'h2': tf.Variable(tf.ones([n_hidden_2]) / 10, name='b2'),\n",
    "    'output': tf.Variable(tf.ones([n_classes]) / 10, name='b_output')\n",
    "}\n",
    "\n",
    "# tf Graph input as placeholders\n",
    "X = tf.placeholder(tf.float32, [None, n_input], name='X')\n",
    "y = tf.placeholder(tf.int32, [None, n_classes], name='y')\n",
    "\n",
    "# tf Graph output\n",
    "y_hat = feed_forward(X, weights, bais)"
   ]
  },
  {
   "cell_type": "markdown",
   "metadata": {},
   "source": [
    "## The loss function: Cross-Entropy\n",
    "We have to compare the softmax probabilities and one-hot encoded target vector for similarity. The Cross-entropy is a distance calculation function which takes the calculated probabilities from softmax function and the created one-hot-encoding matrix to calculate the distance. For the right target classes, the distance values will be lesser, and the distance values will be larger for the wrong target classes. We define cross entropy, **D(S,T)**, for i th observation with softmax probability vector (S) and one-hot target vector (T) as:\n",
    "<img src=\"images/cross_entropy.gif\" alt=\"cross_entropy\" title=\"cross_entropy\" height=\"220\" width=\"220\"/>\n",
    "And now, cost function, J can be defined as the average cross entropy:\n",
    "<img src=\"images/avg_cross_entropy.gif\" alt=\"cross_entropy\" title=\"cross_entropy\" height=\"220\" width=\"220\"/>"
   ]
  },
  {
   "cell_type": "code",
   "execution_count": 6,
   "metadata": {},
   "outputs": [],
   "source": [
    "# define loss function\n",
    "y = tf.to_float(y)\n",
    "softmax = tf.nn.softmax(y_hat)\n",
    "cross_entropy = tf.reduce_mean(-tf.reduce_sum(y * tf.log(softmax), reduction_indices=[1]))\n",
    "\n",
    "# fortunately, TensorFlow is shipped with cross-entorpy function\n",
    "#cross_entropy = tf.reduce_mean(tf.nn.softmax_cross_entropy_with_logits(labels=y, logits=y_hat))\n",
    "\n",
    "# define optiminizer (Gradient Descent) to minimize loss function\n",
    "train_step = tf.train.AdamOptimizer(learning_rate).minimize(cross_entropy)\n",
    "\n",
    "# define accuracy\n",
    "correct_prediction = tf.equal(tf.argmax(softmax, 1), tf.argmax(y, 1))\n",
    "accuracy = tf.reduce_mean(tf.cast(correct_prediction, tf.float32), name='accuracy')"
   ]
  },
  {
   "cell_type": "markdown",
   "metadata": {},
   "source": [
    "## Training: Batch gradient descent"
   ]
  },
  {
   "cell_type": "code",
   "execution_count": 35,
   "metadata": {},
   "outputs": [
    {
     "name": "stdout",
     "output_type": "stream",
     "text": [
      "epoch: 1 cost: 2.49211 accuracy: 0.0904545\n",
      "epoch: 2 cost: 2.22513 accuracy: 0.151091\n",
      "epoch: 3 cost: 2.02667 accuracy: 0.2956\n",
      "epoch: 4 cost: 1.85404 accuracy: 0.428727\n",
      "epoch: 5 cost: 1.69129 accuracy: 0.532618\n",
      "epoch: 6 cost: 1.53524 accuracy: 0.607655\n",
      "epoch: 7 cost: 1.38745 accuracy: 0.6648\n",
      "epoch: 8 cost: 1.25083 accuracy: 0.711691\n",
      "epoch: 9 cost: 1.12832 accuracy: 0.743364\n",
      "epoch: 10 cost: 1.02077 accuracy: 0.764491\n",
      "epoch: 11 cost: 0.926335 accuracy: 0.781018\n",
      "epoch: 12 cost: 0.842251 accuracy: 0.795509\n",
      "epoch: 13 cost: 0.768158 accuracy: 0.807273\n",
      "epoch: 14 cost: 0.705146 accuracy: 0.817691\n",
      "epoch: 15 cost: 0.652521 accuracy: 0.826345\n",
      "epoch: 16 cost: 0.607425 accuracy: 0.8336\n",
      "epoch: 17 cost: 0.567976 accuracy: 0.841709\n",
      "epoch: 18 cost: 0.534133 accuracy: 0.849982\n",
      "epoch: 19 cost: 0.50544 accuracy: 0.857164\n",
      "epoch: 20 cost: 0.480323 accuracy: 0.863945\n",
      "epoch: 21 cost: 0.458022 accuracy: 0.8694\n",
      "epoch: 22 cost: 0.439022 accuracy: 0.874255\n",
      "epoch: 23 cost: 0.422832 accuracy: 0.878491\n",
      "epoch: 24 cost: 0.407825 accuracy: 0.882036\n",
      "epoch: 25 cost: 0.393924 accuracy: 0.885727\n",
      "epoch: 26 cost: 0.382188 accuracy: 0.889255\n",
      "epoch: 27 cost: 0.372125 accuracy: 0.892109\n",
      "epoch: 28 cost: 0.362393 accuracy: 0.894927\n",
      "epoch: 29 cost: 0.35303 accuracy: 0.897509\n",
      "epoch: 30 cost: 0.344578 accuracy: 0.900127\n"
     ]
    }
   ],
   "source": [
    "# Training steps\n",
    "with tf.Session() as sess:\n",
    "    sess.run(tf.global_variables_initializer())\n",
    "    epochs = 30\n",
    "    for epoch in range(epochs):\n",
    "        _, c, a = sess.run([train_step, cross_entropy, accuracy], feed_dict={X: mnist.train.images, y: mnist.train.labels})\n",
    "        print('epoch:', epoch+1, 'cost:', c, 'accuracy:', a)\n",
    "    print(\"Optimization Finished!\")"
   ]
  },
  {
   "cell_type": "markdown",
   "metadata": {},
   "source": [
    "## Training: Mini Batch gradient descent"
   ]
  },
  {
   "cell_type": "code",
   "execution_count": 7,
   "metadata": {},
   "outputs": [
    {
     "name": "stdout",
     "output_type": "stream",
     "text": [
      "epoch: 1 cost: 0.358579063788 accuracy: 0.952255\n",
      "epoch: 2 cost: 0.142075968148 accuracy: 0.970418\n",
      "epoch: 3 cost: 0.0961399432814 accuracy: 0.977891\n",
      "epoch: 4 cost: 0.0712600432717 accuracy: 0.985055\n",
      "epoch: 5 cost: 0.0537366390652 accuracy: 0.989764\n",
      "epoch: 6 cost: 0.0405609607002 accuracy: 0.992055\n",
      "epoch: 7 cost: 0.0307692520879 accuracy: 0.993618\n",
      "epoch: 8 cost: 0.0246169317306 accuracy: 0.991418\n",
      "epoch: 9 cost: 0.0190353194774 accuracy: 0.9952\n",
      "epoch: 10 cost: 0.0153427363642 accuracy: 0.997964\n",
      "Optimization Finished!\n",
      "Model saved!\n",
      "test accuracy: 0.9804\n"
     ]
    }
   ],
   "source": [
    "saver = tf.train.Saver() # to save the model weights\n",
    "\n",
    "# Training steps\n",
    "with tf.Session() as sess:\n",
    "    sess.run(tf.global_variables_initializer())\n",
    "    epochs = 10\n",
    "    for epoch in range(epochs):\n",
    "        cost = []\n",
    "        number_of_batchs = int(mnist.train.num_examples/batch_size)\n",
    "        # Loop over all batches\n",
    "        for i in range(number_of_batchs):\n",
    "            batch_x, batch_y = mnist.train.next_batch(batch_size)\n",
    "            _, c = sess.run([train_step, cross_entropy], feed_dict={X: batch_x, y: batch_y})\n",
    "            cost.append(c)\n",
    "        a = sess.run(accuracy, feed_dict={X: mnist.train.images, y: mnist.train.labels})\n",
    "        print('epoch:', epoch+1, 'cost:', (sum(cost)/len(cost)), 'accuracy:', a)\n",
    "    print(\"Optimization Finished!\")\n",
    "    # training is over. save the model weights\n",
    "    saver.save(sess, 'models/mnist_mlp_2_hidden')\n",
    "    print(\"Model saved!\")\n",
    "    # evaluate\n",
    "    a = sess.run(accuracy, feed_dict={X: mnist.validation.images, y: mnist.validation.labels})\n",
    "    print(\"test accuracy:\", a)\n",
    "    y_pred = sess.run(y_hat, feed_dict={X: mnist.validation.images})"
   ]
  },
  {
   "cell_type": "markdown",
   "metadata": {},
   "source": [
    "## Predict"
   ]
  },
  {
   "cell_type": "code",
   "execution_count": 8,
   "metadata": {},
   "outputs": [
    {
     "data": {
      "image/png": "[encoded data removed]",
      "text/plain": [
       "<matplotlib.figure.Figure at 0x1b7005adac8>"
      ]
     },
     "metadata": {},
     "output_type": "display_data"
    }
   ],
   "source": [
    "idx = np.argmax(y_pred, 1)\n",
    "fig = plt.figure(figsize = (8,8))\n",
    "for i in range (9):\n",
    "    ax = plt.subplot(\"33\"+str(i+1))\n",
    "    ax.set_title('I think this is ' + str(idx[i]))\n",
    "    ax.imshow(mnist.validation.images[i].reshape((28,28)), cmap='gray')\n",
    "    ax.axis('off')\n",
    "plt.show()"
   ]
  },
  {
   "cell_type": "markdown",
   "metadata": {},
   "source": [
    "## TensorBoard"
   ]
  },
  {
   "cell_type": "code",
   "execution_count": 9,
   "metadata": {},
   "outputs": [],
   "source": [
    "writer = tf.summary.FileWriter('.')\n",
    "writer.add_graph(tf.get_default_graph())"
   ]
  },
  {
   "cell_type": "markdown",
   "metadata": {},
   "source": [
    "Now, in a new terminal, launch TensorBoard with the following shell command: <br>\n",
    "`tensorboard --logdir .` <br>\n",
    "OR <br>\n",
    "`python -m tensorflow.tensorboard --logdir .` <br>\n",
    "Then go to __[localhost:6006](http://localhost:6006)__ to **GRAPHS** tab to see the computational graph\n",
    "<img src=\"images/MLP_graph.png\" alt=\"MLP_graph\" title=\"MLP_graph\" height=\"820\" width=\"720\"/>"
   ]
  }
 ],
 "metadata": {
  "kernelspec": {
   "display_name": "Python 3",
   "language": "python",
   "name": "python3"
  },
  "language_info": {
   "codemirror_mode": {
    "name": "ipython",
    "version": 3
   },
   "file_extension": ".py",
   "mimetype": "text/x-python",
   "name": "python",
   "nbconvert_exporter": "python",
   "pygments_lexer": "ipython3",
   "version": "3.5.4"
  }
 },
 "nbformat": 4,
 "nbformat_minor": 2
}
